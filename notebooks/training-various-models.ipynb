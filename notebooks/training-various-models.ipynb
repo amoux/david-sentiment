{
 "cells": [
  {
   "cell_type": "code",
   "execution_count": 1,
   "metadata": {},
   "outputs": [
    {
     "name": "stderr",
     "output_type": "stream",
     "text": [
      "Using TensorFlow backend.\n"
     ]
    }
   ],
   "source": [
    "from david_sentiment import SentimentConfig\n",
    "from david_sentiment import SentimentModel\n",
    "from david_sentiment.dataset import YTComments\n",
    "from david_sentiment.dataset import build_dataset"
   ]
  },
  {
   "cell_type": "markdown",
   "metadata": {},
   "source": [
    "### preprocessing\n",
    "\n",
    "> Pre-processing steps before transformation; `(filtering, normalization, and sentence-tokenization)`"
   ]
  },
  {
   "cell_type": "code",
   "execution_count": 2,
   "metadata": {
    "scrolled": false
   },
   "outputs": [
    {
     "name": "stderr",
     "output_type": "stream",
     "text": [
      "sequences:   2%|▏         | 1335/61478 [00:00<00:04, 13346.89/s]"
     ]
    },
    {
     "name": "stdout",
     "output_type": "stream",
     "text": [
      "\u001b[38;5;3m⚠  normalizing 61478 string sequences from batch.\u001b[0m\n"
     ]
    },
    {
     "name": "stderr",
     "output_type": "stream",
     "text": [
      "sequences: 100%|██████████| 61478/61478 [00:54<00:00, 1130.32/s]\n"
     ]
    },
    {
     "name": "stdout",
     "output_type": "stream",
     "text": [
      "\u001b[38;5;2m✔  removed 594 strings of length >= 1000.\u001b[0m\n",
      "\u001b[38;5;4mℹ  returning batch with 60884 samples.\u001b[0m\n"
     ]
    },
    {
     "name": "stderr",
     "output_type": "stream",
     "text": [
      "\r",
      "sequences: 0 [00:00, ?/s]"
     ]
    },
    {
     "name": "stdout",
     "output_type": "stream",
     "text": [
      "\u001b[38;5;3m⚠  tokenizing strings to sentences, spaCy model: en_core_web_sm.\u001b[0m\n"
     ]
    },
    {
     "name": "stderr",
     "output_type": "stream",
     "text": [
      "sequences: 60884 [04:11, 241.86/s]\n"
     ]
    },
    {
     "name": "stdout",
     "output_type": "stream",
     "text": [
      "\u001b[38;5;2m✔  removed 51264 strings of length <= 20.\u001b[0m\n",
      "\u001b[38;5;4mℹ  previous-size: 60884, new-size: 142342.\u001b[0m\n",
      "\u001b[38;5;3m⚠  TextBlob annotating dataset with binary classes: 0 | 1\u001b[0m\n",
      "\u001b[38;5;2m✔  annotation summary 🤖\u001b[0m\n",
      "\u001b[38;5;4mℹ  trainable: 73356, un-trainable: 68986\u001b[0m\n"
     ]
    }
   ],
   "source": [
    "config = SentimentConfig(min_strlen=20, max_strlen=1000)\n",
    "sentiment = SentimentModel(config)\n",
    "\n",
    "# the dataset is returned as a generator.\n",
    "dataset = YTComments.load_dataset_as_doc()\n",
    "trainable, untrainable = build_dataset(dataset, config, untrainable=True)"
   ]
  },
  {
   "cell_type": "markdown",
   "metadata": {},
   "source": [
    "### transformation\n",
    "\n",
    "> Tranforming the preprocessed `trainable` dataset to the format models expect."
   ]
  },
  {
   "cell_type": "code",
   "execution_count": 3,
   "metadata": {},
   "outputs": [
    {
     "name": "stdout",
     "output_type": "stream",
     "text": [
      "\u001b[38;5;4mℹ * Removed 13802 tokens from 26948\u001b[0m\n"
     ]
    },
    {
     "data": {
      "text/plain": [
       "(37744, 9436)"
      ]
     },
     "execution_count": 3,
     "metadata": {},
     "output_type": "execute_result"
    }
   ],
   "source": [
    "x_train, y_train, x_test, y_test = sentiment.transform(trainable, mincount=2)\n",
    "len(x_train), len(x_test) # 1:1 class labels for both training and test sets."
   ]
  },
  {
   "cell_type": "markdown",
   "metadata": {},
   "source": [
    "## pre-trained model\n",
    "\n",
    "> Training the model on GloVe embeddings"
   ]
  },
  {
   "cell_type": "code",
   "execution_count": 4,
   "metadata": {},
   "outputs": [
    {
     "name": "stdout",
     "output_type": "stream",
     "text": [
      "\u001b[38;5;2m✔ <✔(dim=300, vocab=13147)>\u001b[0m\n",
      "\u001b[38;5;2m✔ *** embedding vocabulary 👻 ***\u001b[0m\n",
      "\u001b[38;5;2m✔ Glove embeddings loaded from path:\n",
      "/home/ego/david_models/glove/glove.6B/glove.6B.300d.txt\u001b[0m\n"
     ]
    }
   ],
   "source": [
    "# build the embedding layer for the model with 300 dimensions\n",
    "embedding_layer = sentiment.embedding(l2=1e-6, ndim=\"300d\")"
   ]
  },
  {
   "cell_type": "code",
   "execution_count": 5,
   "metadata": {},
   "outputs": [
    {
     "name": "stdout",
     "output_type": "stream",
     "text": [
      "Model: \"sequential_1\"\n",
      "_________________________________________________________________\n",
      "Layer (type)                 Output Shape              Param #   \n",
      "=================================================================\n",
      "embedding (Embedding)        (None, 125, 300)          3944100   \n",
      "_________________________________________________________________\n",
      "flatten_1 (Flatten)          (None, 37500)             0         \n",
      "_________________________________________________________________\n",
      "dense_1 (Dense)              (None, 32)                1200032   \n",
      "_________________________________________________________________\n",
      "dense_2 (Dense)              (None, 1)                 33        \n",
      "=================================================================\n",
      "Total params: 5,144,165\n",
      "Trainable params: 1,200,065\n",
      "Non-trainable params: 3,944,100\n",
      "_________________________________________________________________\n"
     ]
    }
   ],
   "source": [
    "pt_model = sentiment.compile_network(None, embedding_layer, task='pre-trained')\n",
    "pt_model.summary()"
   ]
  },
  {
   "cell_type": "code",
   "execution_count": 6,
   "metadata": {
    "scrolled": true
   },
   "outputs": [
    {
     "name": "stdout",
     "output_type": "stream",
     "text": [
      "Train on 37744 samples, validate on 9436 samples\n",
      "Epoch 1/13\n",
      "37744/37744 [==============================] - 9s 249us/step - loss: 0.6003 - acc: 0.6701 - val_loss: 0.5387 - val_acc: 0.7174\n",
      "Epoch 2/13\n",
      "37744/37744 [==============================] - 9s 241us/step - loss: 0.4914 - acc: 0.7583 - val_loss: 0.5187 - val_acc: 0.7364\n",
      "Epoch 3/13\n",
      "37744/37744 [==============================] - 9s 233us/step - loss: 0.4403 - acc: 0.7911 - val_loss: 0.4996 - val_acc: 0.7532\n",
      "Epoch 4/13\n",
      "37744/37744 [==============================] - 9s 237us/step - loss: 0.3998 - acc: 0.8147 - val_loss: 0.4957 - val_acc: 0.7624\n",
      "Epoch 5/13\n",
      "37744/37744 [==============================] - 9s 237us/step - loss: 0.3665 - acc: 0.8331 - val_loss: 0.5084 - val_acc: 0.7576\n",
      "Epoch 6/13\n",
      "37744/37744 [==============================] - 9s 229us/step - loss: 0.3330 - acc: 0.8548 - val_loss: 0.5152 - val_acc: 0.7605\n",
      "Epoch 7/13\n",
      "37744/37744 [==============================] - 9s 232us/step - loss: 0.2984 - acc: 0.8746 - val_loss: 0.5625 - val_acc: 0.7410\n",
      "Epoch 8/13\n",
      "37744/37744 [==============================] - 9s 245us/step - loss: 0.2723 - acc: 0.8890 - val_loss: 0.5690 - val_acc: 0.7415\n",
      "Epoch 9/13\n",
      "37744/37744 [==============================] - 9s 244us/step - loss: 0.2455 - acc: 0.9043 - val_loss: 0.5565 - val_acc: 0.7610\n",
      "Epoch 10/13\n",
      "37744/37744 [==============================] - 9s 250us/step - loss: 0.2190 - acc: 0.9155 - val_loss: 0.5689 - val_acc: 0.7578\n",
      "Epoch 11/13\n",
      "37744/37744 [==============================] - 9s 243us/step - loss: 0.1975 - acc: 0.9275 - val_loss: 0.5928 - val_acc: 0.7577\n",
      "Epoch 12/13\n",
      "37744/37744 [==============================] - 10s 255us/step - loss: 0.1760 - acc: 0.9378 - val_loss: 0.5983 - val_acc: 0.7593\n",
      "Epoch 13/13\n",
      "37744/37744 [==============================] - 9s 249us/step - loss: 0.1589 - acc: 0.9447 - val_loss: 0.6189 - val_acc: 0.7568\n"
     ]
    }
   ],
   "source": [
    "history = pt_model.fit(x_train, y_train,\n",
    "                       epochs=13,\n",
    "                       batch_size=512,\n",
    "                       validation_data=(x_test, y_test))"
   ]
  },
  {
   "cell_type": "code",
   "execution_count": 7,
   "metadata": {},
   "outputs": [
    {
     "data": {
      "image/png": "[encoded data removed]",
      "text/plain": [
       "<Figure size 432x288 with 1 Axes>"
      ]
     },
     "metadata": {
      "needs_background": "light"
     },
     "output_type": "display_data"
    }
   ],
   "source": [
    "from david_sentiment.utils import plot_losses\n",
    "plot_losses(history)"
   ]
  },
  {
   "cell_type": "code",
   "execution_count": 8,
   "metadata": {},
   "outputs": [
    {
     "data": {
      "image/png": "[encoded data removed]",
      "text/plain": [
       "<Figure size 432x288 with 1 Axes>"
      ]
     },
     "metadata": {
      "needs_background": "light"
     },
     "output_type": "display_data"
    }
   ],
   "source": [
    "from david_sentiment.utils import plot_accuracy\n",
    "plot_accuracy(history)"
   ]
  },
  {
   "cell_type": "code",
   "execution_count": 9,
   "metadata": {},
   "outputs": [
    {
     "data": {
      "text/plain": [
       "<SentimentModel(max_seqlen=125, vocab_size=(13147, 300))>"
      ]
     },
     "execution_count": 9,
     "metadata": {},
     "output_type": "execute_result"
    }
   ],
   "source": [
    "dev_0 = SentimentModel.clone(sentiment, pt_model)\n",
    "dev_0"
   ]
  },
  {
   "cell_type": "code",
   "execution_count": 10,
   "metadata": {},
   "outputs": [
    {
     "name": "stdout",
     "output_type": "stream",
     "text": [
      "input: \"I wonder if this is a positive text?? hmm..\" < neg(😒) (46.1054)% >\n",
      "input: \"I wonder if this is a negative text?? hmm..\" < neg(🤬) (0.3817)% >\n"
     ]
    }
   ],
   "source": [
    "from david_sentiment.utils import test_simple, test_untrained\n",
    "\n",
    "dev_0.predict_print(\"I wonder if this is a positive text?? hmm..\")\n",
    "dev_0.predict_print(\"I wonder if this is a negative text?? hmm..\") # fixed logic"
   ]
  },
  {
   "cell_type": "code",
   "execution_count": 38,
   "metadata": {
    "scrolled": true
   },
   "outputs": [
    {
     "name": "stdout",
     "output_type": "stream",
     "text": [
      "* -- sentiment with punctuation -- *\n",
      "\n",
      "input: \"I hate this, but love it :)\" < neg(🤬) (2.1428)% >\n",
      "input: \"I love this, but hate it :)\" < pos(😁) (80.8746)% >\n",
      "input: \"I hate this, but love it :(\" < neg(🤬) (0.1184)% >\n",
      "input: \"I love this, but hate it :(\" < neg(😡) (9.7224)% >\n",
      "\n",
      "* -- sentiment without punctuation -- *\n",
      "\n",
      "input: \"I hate this but love it :)\" < neg(🤬) (0.7959)% >\n",
      "input: \"I love this but hate it :)\" < neg(😳) (32.3494)% >\n",
      "input: \"I hate this but love it :(\" < neg(🤬) (0.0492)% >\n",
      "input: \"I love this but hate it :(\" < neg(🤬) (2.6154)% >\n"
     ]
    }
   ],
   "source": [
    "test_simple(dev_0, 2)"
   ]
  },
  {
   "cell_type": "code",
   "execution_count": 58,
   "metadata": {},
   "outputs": [
    {
     "name": "stdout",
     "output_type": "stream",
     "text": [
      "💬 <old=0.0, new=15.545, label=0>\n",
      " 😠 - its just that python is easier\n",
      "\n",
      "💬 <old=0.0, new=85.6632, label=1>\n",
      " 😀 - China should give an ultimatum to Apple.\n",
      "\n",
      "💬 <old=0.0, new=5.5572, label=0>\n",
      " 🤬 - it always say \"Lane departure warning\" and goes for like 30 minutes\n",
      "\n",
      "💬 <old=0.0, new=11.2527, label=0>\n",
      " 😡 - Standard global obd won’t work.\n",
      "\n",
      "💬 <old=0.0, new=76.2839, label=1>\n",
      " 😅 - (Sandeep Maheshwari ji)\n",
      "\n"
     ]
    }
   ],
   "source": [
    "test_untrained(dev_0, untrainable, k=5)"
   ]
  },
  {
   "cell_type": "markdown",
   "metadata": {},
   "source": [
    "## ad-hoc model\n",
    "\n",
    "> Training the model without using the pre-trainined embeddings:"
   ]
  },
  {
   "cell_type": "code",
   "execution_count": 41,
   "metadata": {},
   "outputs": [],
   "source": [
    "adhoc_layer = sentiment.embedding_layer\n",
    "adhoc_model = sentiment.compile_network(task='ad-hoc',\n",
    "                                        layer=adhoc_layer,\n",
    "                                        return_model=True)"
   ]
  },
  {
   "cell_type": "code",
   "execution_count": 42,
   "metadata": {},
   "outputs": [
    {
     "name": "stderr",
     "output_type": "stream",
     "text": [
      "/home/ego/anaconda3/envs/devtest/lib/python3.7/site-packages/tensorflow_core/python/framework/indexed_slices.py:424: UserWarning: Converting sparse IndexedSlices to a dense Tensor of unknown shape. This may consume a large amount of memory.\n",
      "  \"Converting sparse IndexedSlices to a dense Tensor of unknown shape. \"\n"
     ]
    },
    {
     "name": "stdout",
     "output_type": "stream",
     "text": [
      "Train on 37744 samples, validate on 9436 samples\n",
      "Epoch 1/6\n",
      "37744/37744 [==============================] - 13s 355us/step - loss: 0.6428 - acc: 0.6679 - val_loss: 0.3780 - val_acc: 0.8548\n",
      "Epoch 2/6\n",
      "37744/37744 [==============================] - 13s 358us/step - loss: 0.2559 - acc: 0.9082 - val_loss: 0.2167 - val_acc: 0.9171\n",
      "Epoch 3/6\n",
      "37744/37744 [==============================] - 12s 330us/step - loss: 0.1530 - acc: 0.9472 - val_loss: 0.1920 - val_acc: 0.9295\n",
      "Epoch 4/6\n",
      "37744/37744 [==============================] - 12s 329us/step - loss: 0.1064 - acc: 0.9663 - val_loss: 0.1975 - val_acc: 0.9270\n",
      "Epoch 5/6\n",
      "37744/37744 [==============================] - 13s 339us/step - loss: 0.0768 - acc: 0.9777 - val_loss: 0.2180 - val_acc: 0.9236\n",
      "Epoch 6/6\n",
      "37744/37744 [==============================] - 13s 340us/step - loss: 0.0549 - acc: 0.9856 - val_loss: 0.2800 - val_acc: 0.9074\n"
     ]
    }
   ],
   "source": [
    "# ad-hoc models tend to less epochs and can be better\n",
    "# results than that of pre-trained vectors. The downside\n",
    "# is of performance (these models are heavier).\n",
    "adhoc_history = adhoc_model.fit(x_train, y_train,\n",
    "                                epochs=6,\n",
    "                                batch_size=512,\n",
    "                                validation_data=(x_test, y_test))"
   ]
  },
  {
   "cell_type": "code",
   "execution_count": 72,
   "metadata": {},
   "outputs": [
    {
     "data": {
      "image/png": "[encoded data removed]",
      "text/plain": [
       "<Figure size 432x288 with 1 Axes>"
      ]
     },
     "metadata": {
      "needs_background": "light"
     },
     "output_type": "display_data"
    }
   ],
   "source": [
    "plot_losses(adhoc_history, 'ro', 'b', show=True, save=False)"
   ]
  },
  {
   "cell_type": "code",
   "execution_count": 73,
   "metadata": {},
   "outputs": [
    {
     "data": {
      "image/png": "[encoded data removed]",
      "text/plain": [
       "<Figure size 432x288 with 1 Axes>"
      ]
     },
     "metadata": {
      "needs_background": "light"
     },
     "output_type": "display_data"
    }
   ],
   "source": [
    "plot_accuracy(adhoc_history, 'ro', 'b', show=True, save=False)"
   ]
  },
  {
   "cell_type": "code",
   "execution_count": 47,
   "metadata": {},
   "outputs": [],
   "source": [
    "dev_1 = SentimentModel.clone(sentiment, adhoc_model)"
   ]
  },
  {
   "cell_type": "code",
   "execution_count": 60,
   "metadata": {},
   "outputs": [
    {
     "name": "stdout",
     "output_type": "stream",
     "text": [
      "input: \"I wonder if this is a positive text?? hmm..\" < pos(😊) (71.9896)% >\n",
      "input: \"I wonder if this is a negative text?? hmm..\" < neg(🤬) (0.3425)% >\n"
     ]
    }
   ],
   "source": [
    "dev_1.predict_print(\"I wonder if this is a positive text?? hmm..\")\n",
    "dev_1.predict_print(\"I wonder if this is a negative text?? hmm..\")"
   ]
  },
  {
   "cell_type": "code",
   "execution_count": 64,
   "metadata": {},
   "outputs": [
    {
     "name": "stdout",
     "output_type": "stream",
     "text": [
      "* -- sentiment with punctuation -- *\n",
      "\n",
      "input: \"I hate this, but love it :)\" < neg(🤬) (0.4056)% >\n",
      "input: \"I love this, but hate it :)\" < neg(🤬) (0.7033)% >\n",
      "input: \"I hate this, but love it :(\" < neg(🤬) (0.3612)% >\n",
      "input: \"I love this, but hate it :(\" < neg(🤬) (0.5986)% >\n",
      "\n",
      "* -- sentiment without punctuation -- *\n",
      "\n",
      "input: \"I hate this but love it :)\" < neg(🤬) (0.4788)% >\n",
      "input: \"I love this but hate it :)\" < neg(🤬) (1.9094)% >\n",
      "input: \"I hate this but love it :(\" < neg(🤬) (0.422)% >\n",
      "input: \"I love this but hate it :(\" < neg(🤬) (1.5635)% >\n"
     ]
    }
   ],
   "source": [
    "test_simple(dev_1, 2)"
   ]
  },
  {
   "cell_type": "code",
   "execution_count": 74,
   "metadata": {
    "scrolled": false
   },
   "outputs": [
    {
     "name": "stdout",
     "output_type": "stream",
     "text": [
      "💬 <old=0.0, new=3.5743, label=0>\n",
      " 🤬 - i kinda prefer it to the s10,it\n",
      "\n",
      "💬 <old=0.0, new=14.0078, label=0>\n",
      " 😡 - Imagine you on your phone Your on a face time with your friends Then boom\n",
      "\n",
      "💬 <old=0.0, new=21.1674, label=0>\n",
      " 😠 - Rfhgrfhgfueh wrthgbc Cv.\n",
      "\n",
      "💬 <old=0.0, new=11.0298, label=0>\n",
      " 😡 - yeez a lot to discorver in front of me\n",
      "\n",
      "💬 <old=0.0, new=2.6611, label=0>\n",
      " 🤬 - He means the ignition button that you press to start the car\n",
      "\n"
     ]
    }
   ],
   "source": [
    "test_untrained(dev_1, untrainable, k=5)"
   ]
  },
  {
   "cell_type": "markdown",
   "metadata": {},
   "source": [
    "## Using Tensorflow\n",
    "\n",
    "> Here's an example of how you can further experient with your dataset.\n",
    "\n",
    "Here are all the objects you need to build other models.\n",
    "\n",
    "```python\n",
    "# get the embedding layer of shape Tuple[int, int, int]\n",
    "vocab_size, embedding_dim, max_length = sentiment.embedding_layer\n",
    "\n",
    "# make sure you pass the transformed training and testing(optional) sets\n",
    "tf_history = tf_model.fit(x_train, y_train,\n",
    "                          epochs=10,\n",
    "                          verbose=1,\n",
    "                          validation_data=(x_test, y_test))\n",
    "```"
   ]
  },
  {
   "cell_type": "code",
   "execution_count": 75,
   "metadata": {},
   "outputs": [
    {
     "name": "stdout",
     "output_type": "stream",
     "text": [
      "Model: \"sequential\"\n",
      "_________________________________________________________________\n",
      "Layer (type)                 Output Shape              Param #   \n",
      "=================================================================\n",
      "embedding (Embedding)        (None, 125, 300)          3944100   \n",
      "_________________________________________________________________\n",
      "global_average_pooling1d (Gl (None, 300)               0         \n",
      "_________________________________________________________________\n",
      "dense (Dense)                (None, 24)                7224      \n",
      "_________________________________________________________________\n",
      "dense_1 (Dense)              (None, 1)                 25        \n",
      "=================================================================\n",
      "Total params: 3,951,349\n",
      "Trainable params: 3,951,349\n",
      "Non-trainable params: 0\n",
      "_________________________________________________________________\n"
     ]
    }
   ],
   "source": [
    "import tensorflow as tf\n",
    "\n",
    "vocab_size, embedding_dim, max_length = sentiment.embedding_layer\n",
    "tf_model = tf.keras.Sequential([\n",
    "    tf.keras.layers.Embedding(vocab_size, embedding_dim, input_length=max_length),\n",
    "    tf.keras.layers.GlobalAveragePooling1D(),\n",
    "    tf.keras.layers.Dense(24, activation=\"relu\"), # lets try 24 hidden-units\n",
    "    tf.keras.layers.Dense(1, activation=\"sigmoid\"),\n",
    "])\n",
    "\n",
    "tf_model.compile(loss=\"binary_crossentropy\", optimizer=\"adam\", metrics=[\"acc\"])\n",
    "tf_model.summary()"
   ]
  },
  {
   "cell_type": "code",
   "execution_count": 77,
   "metadata": {},
   "outputs": [
    {
     "name": "stdout",
     "output_type": "stream",
     "text": [
      "Train on 37744 samples, validate on 9436 samples\n",
      "Epoch 1/3\n",
      "37744/37744 [==============================] - 63s 2ms/sample - loss: 0.1096 - acc: 0.9657 - val_loss: 0.2039 - val_acc: 0.9276\n",
      "Epoch 2/3\n",
      "37744/37744 [==============================] - 63s 2ms/sample - loss: 0.0957 - acc: 0.9707 - val_loss: 0.2072 - val_acc: 0.9308\n",
      "Epoch 3/3\n",
      "37744/37744 [==============================] - 63s 2ms/sample - loss: 0.0868 - acc: 0.9739 - val_loss: 0.2176 - val_acc: 0.9256\n"
     ]
    }
   ],
   "source": [
    "# note that I did't pass a batch size value here.\n",
    "tf_history = tf_model.fit(x_train, y_train,\n",
    "                          epochs=3,\n",
    "                          verbose=1,\n",
    "                          validation_data=(x_test, y_test))"
   ]
  },
  {
   "cell_type": "code",
   "execution_count": 78,
   "metadata": {},
   "outputs": [
    {
     "data": {
      "image/png": "[encoded data removed]",
      "text/plain": [
       "<Figure size 432x288 with 1 Axes>"
      ]
     },
     "metadata": {
      "needs_background": "light"
     },
     "output_type": "display_data"
    }
   ],
   "source": [
    "plot_accuracy(tf_history, 'bo', 'b')"
   ]
  },
  {
   "cell_type": "code",
   "execution_count": 79,
   "metadata": {},
   "outputs": [
    {
     "data": {
      "image/png": "[encoded data removed]",
      "text/plain": [
       "<Figure size 432x288 with 1 Axes>"
      ]
     },
     "metadata": {
      "needs_background": "light"
     },
     "output_type": "display_data"
    }
   ],
   "source": [
    "plot_losses(tf_history, 'bo', 'b')"
   ]
  },
  {
   "cell_type": "code",
   "execution_count": 80,
   "metadata": {},
   "outputs": [
    {
     "data": {
      "text/plain": [
       "<SentimentModel(max_seqlen=125, vocab_size=(13147, 300))>"
      ]
     },
     "execution_count": 80,
     "metadata": {},
     "output_type": "execute_result"
    }
   ],
   "source": [
    "dev_2 = SentimentModel.clone(sentiment, tf_model)\n",
    "dev_2"
   ]
  },
  {
   "cell_type": "code",
   "execution_count": 81,
   "metadata": {},
   "outputs": [
    {
     "name": "stdout",
     "output_type": "stream",
     "text": [
      "input: \"I wonder if this is a positive text?? hmm..\" < pos(😁) (83.7627)% >\n",
      "input: \"I wonder if this is a negative text?? hmm..\" < neg(🤬) (1.0908)% >\n"
     ]
    }
   ],
   "source": [
    "dev_2.predict_print(\"I wonder if this is a positive text?? hmm..\")\n",
    "dev_2.predict_print(\"I wonder if this is a negative text?? hmm..\")"
   ]
  },
  {
   "cell_type": "code",
   "execution_count": 82,
   "metadata": {},
   "outputs": [
    {
     "name": "stdout",
     "output_type": "stream",
     "text": [
      "* -- sentiment with punctuation -- *\n",
      "\n",
      "input: \"I hate this, but love it :)\" < neg(🤬) (1.8232)% >\n",
      "input: \"I love this, but hate it :)\" < neg(🤬) (1.8232)% >\n",
      "input: \"I hate this, but love it :(\" < neg(🤬) (1.9715)% >\n",
      "input: \"I love this, but hate it :(\" < neg(🤬) (1.9715)% >\n",
      "\n",
      "* -- sentiment without punctuation -- *\n",
      "\n",
      "input: \"I hate this but love it :)\" < neg(🤬) (1.7842)% >\n",
      "input: \"I love this but hate it :)\" < neg(🤬) (1.7842)% >\n",
      "input: \"I hate this but love it :(\" < neg(🤬) (1.9294)% >\n",
      "input: \"I love this but hate it :(\" < neg(🤬) (1.9294)% >\n"
     ]
    }
   ],
   "source": [
    "test_simple(dev_2, 2)"
   ]
  },
  {
   "cell_type": "code",
   "execution_count": 84,
   "metadata": {},
   "outputs": [
    {
     "name": "stdout",
     "output_type": "stream",
     "text": [
      "💬 <old=0.0, new=8.67, label=0>\n",
      " 😡 - # this is made by chirag madaan # here\n",
      "\n",
      "💬 <old=0.0, new=5.6369, label=0>\n",
      " 🤬 - There are maaany cameras with 1 lens that beat smartphone cameras\n",
      "\n",
      "💬 <old=0.0, new=17.2233, label=0>\n",
      " 😠 - So I don't give a fuck free market bitch.\n",
      "\n",
      "💬 <old=0.0, new=40.8094, label=0>\n",
      " 😒 - I understand that designers don't want to have a big boxy screen dictate design choices\n",
      "\n",
      "💬 <old=0.0, new=79.0469, label=1>\n",
      " 😁 - One world ,One Dream!I am Chinese!\n",
      "\n",
      "💬 <old=0.0, new=18.0185, label=0>\n",
      " 😠 - the wife & I bought last year has an infotainment system in it.\n",
      "\n",
      "💬 <old=0.0, new=4.4264, label=0>\n",
      " 🤬 - Unless the phone it something while it was being delivered.\n",
      "\n",
      "💬 <old=0.0, new=5.0198, label=0>\n",
      " 🤬 - Dont know if they scare me or what\n",
      "\n",
      "💬 <old=0.0, new=48.7313, label=0>\n",
      " 😶 - \"This is all rubbish anyway.\n",
      "\n",
      "💬 <old=0.0, new=37.5904, label=0>\n",
      " 😬 - Mate 30 pro enter the chat.\n",
      "\n"
     ]
    }
   ],
   "source": [
    "test_untrained(dev_2, untrainable, k=10)"
   ]
  },
  {
   "cell_type": "code",
   "execution_count": null,
   "metadata": {},
   "outputs": [],
   "source": []
  }
 ],
 "metadata": {
  "kernelspec": {
   "display_name": "Python 3",
   "language": "python",
   "name": "python3"
  },
  "language_info": {
   "codemirror_mode": {
    "name": "ipython",
    "version": 3
   },
   "file_extension": ".py",
   "mimetype": "text/x-python",
   "name": "python",
   "nbconvert_exporter": "python",
   "pygments_lexer": "ipython3",
   "version": "3.7.6"
  },
  "varInspector": {
   "cols": {
    "lenName": 16,
    "lenType": 16,
    "lenVar": 40
   },
   "kernels_config": {
    "python": {
     "delete_cmd_postfix": "",
     "delete_cmd_prefix": "del ",
     "library": "var_list.py",
     "varRefreshCmd": "print(var_dic_list())"
    },
    "r": {
     "delete_cmd_postfix": ") ",
     "delete_cmd_prefix": "rm(",
     "library": "var_list.r",
     "varRefreshCmd": "cat(var_dic_list()) "
    }
   },
   "types_to_exclude": [
    "module",
    "function",
    "builtin_function_or_method",
    "instance",
    "_Feature"
   ],
   "window_display": false
  }
 },
 "nbformat": 4,
 "nbformat_minor": 4
}
